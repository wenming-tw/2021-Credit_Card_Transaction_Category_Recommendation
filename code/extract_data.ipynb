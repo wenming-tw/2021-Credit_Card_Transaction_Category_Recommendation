{
 "cells": [
  {
   "cell_type": "code",
   "execution_count": 2,
   "metadata": {},
   "outputs": [
    {
     "name": "stdout",
     "output_type": "stream",
     "text": [
      "(32975653, 53)\n"
     ]
    }
   ],
   "source": [
    "import os\n",
    "import torch\n",
    "import numpy as np\n",
    "import pandas as pd\n",
    "from scipy import stats\n",
    "from scipy.sparse import coo_matrix\n",
    "from sklearn.preprocessing import StandardScaler\n",
    "\n",
    "path = '../data/tbrain_cc_training_48tags_hash_final.csv'\n",
    "df = pd.read_csv(path)\n",
    "\n",
    "pred_label = [ 2,  6, 10, 12, 13, 15, 18, 19, 21, 22, 25, 26, 36, 37, 39, 48]\n",
    "df.shop_tag = df.shop_tag.str.replace('other', '0').astype(int)\n",
    "df.reset_index(drop=True, inplace=True)\n",
    "print(df.shape)\n",
    "\n",
    "chid_feat_cols = ['masts', 'educd', 'trdtp', 'naty', 'poscd', 'cuorg', 'gender_code', 'age']\n",
    "edge_feat_cols = list(df.columns)[3:-10]\n",
    "edge_cols = ['chid', 'shop_tag']\n",
    "y_cols = ['txn_amt']\n",
    "\n",
    "df.loc[2417847, 'txn_amt'] /= 1e46 # let max value be smaller"
   ]
  },
  {
   "cell_type": "code",
   "execution_count": 3,
   "metadata": {},
   "outputs": [],
   "source": [
    "chid2idx = {chid: i for i, chid in enumerate(sorted(df.chid.unique()))}\n",
    "shop2idx = {shop: i for i, shop in enumerate(sorted(df.shop_tag.unique()))}\n",
    "feat2idx = {}\n",
    "for feat in chid_feat_cols:\n",
    "    df[feat] = df[feat].fillna(df[feat].max()+1).astype(int)\n",
    "    feat2idx[feat] = {f: i for i, f in enumerate(sorted(df[feat].unique()))}\n",
    "\n",
    "df.chid = df.chid.map(chid2idx.get)\n",
    "df.shop_tag = df.shop_tag.map(shop2idx.get)\n",
    "df[chid_feat_cols] = df[chid_feat_cols].apply(lambda x: x.map(feat2idx[x.name].get))\n",
    "\n",
    "bcx_target, lam = stats.boxcox(df.txn_amt)\n",
    "df['txn_amt'] = bcx_target"
   ]
  },
  {
   "cell_type": "code",
   "execution_count": 4,
   "metadata": {},
   "outputs": [],
   "source": [
    "scaler = StandardScaler()\n",
    "df[['txn_cnt']] = scaler.fit_transform(df[['txn_cnt']])"
   ]
  },
  {
   "cell_type": "code",
   "execution_count": 5,
   "metadata": {},
   "outputs": [],
   "source": [
    "np.save('../data/chid2idx', chid2idx)\n",
    "np.save('../data/shop2idx', shop2idx)\n",
    "np.save('../data/feat2idx', feat2idx)"
   ]
  },
  {
   "cell_type": "code",
   "execution_count": 6,
   "metadata": {},
   "outputs": [],
   "source": [
    "edge_cols = ['chid', 'shop_tag']\n",
    "feat_cols = ['txn_cnt', 'domestic_offline_cnt','domestic_online_cnt','overseas_offline_cnt','overseas_online_cnt', \n",
    "             'domestic_offline_amt_pct', 'domestic_online_amt_pct', 'overseas_offline_amt_pct', 'overseas_online_amt_pct', \n",
    "             'card_1_txn_cnt', 'card_2_txn_cnt', 'card_3_txn_cnt', 'card_4_txn_cnt', 'card_5_txn_cnt', 'card_6_txn_cnt', 'card_7_txn_cnt', 'card_8_txn_cnt', \n",
    "             'card_9_txn_cnt', 'card_10_txn_cnt', 'card_11_txn_cnt', 'card_12_txn_cnt', 'card_13_txn_cnt', 'card_14_txn_cnt', 'card_other_txn_cnt', \n",
    "             'card_1_txn_amt_pct', 'card_2_txn_amt_pct', 'card_3_txn_amt_pct', 'card_4_txn_amt_pct', 'card_5_txn_amt_pct', 'card_6_txn_amt_pct', 'card_7_txn_amt_pct', 'card_8_txn_amt_pct',\n",
    "             'card_9_txn_amt_pct', 'card_10_txn_amt_pct', 'card_11_txn_amt_pct', 'card_12_txn_amt_pct', 'card_13_txn_amt_pct', 'card_14_txn_amt_pct', 'card_other_txn_amt_pct']\n",
    "             # 1, 4, 4, 15, 15"
   ]
  },
  {
   "cell_type": "code",
   "execution_count": 7,
   "metadata": {},
   "outputs": [],
   "source": [
    "other_label = list(set(df.shop_tag.unique()) - set(pred_label))"
   ]
  },
  {
   "cell_type": "code",
   "execution_count": 8,
   "metadata": {},
   "outputs": [],
   "source": [
    "out_path = '../data/sparse/'\n",
    "os.makedirs(out_path, exist_ok=True)\n",
    "\n",
    "for dt in sorted(df.dt.unique()):\n",
    "    values = df[(df.dt == dt)&(df.shop_tag.isin(pred_label))].sort_values(by=['chid', 'shop_tag'])[edge_cols+feat_cols+['txn_amt']].values\n",
    "    indices = values[:, :2].T\n",
    "    indices[1] = list(map(lambda x:pred_label.index(x), indices[1].tolist()))\n",
    "\n",
    "    data_amt = values[:, -1] # txn_amt\n",
    "    torch.save(torch.sparse_coo_tensor(indices, data_amt, [len(chid2idx), len(pred_label)]), out_path+'x_{:02d}.pt'.format(dt))\n",
    "\n",
    "    data_feat = values[:,2:-1] # txn_cnt\n",
    "    torch.save(torch.sparse_coo_tensor(indices, data_feat, [len(chid2idx), len(pred_label), len(feat_cols)]), out_path+'feat_{:02d}.pt'.format(dt))\n",
    "\n",
    "    x = coo_matrix((data_amt, indices), shape=[len(chid2idx), len(pred_label)])\n",
    "    x_values = x.toarray()\n",
    "    indices = [np.array([[i, i, i] for i in range(len(chid2idx))]).ravel(), np.argpartition(x_values, -3)[:, -3:].ravel()]\n",
    "    data = np.ones(indices[0].shape[0])*np.array([0.95, 0.975, 1.]*len(chid2idx))\n",
    "    data[x_values[indices[0], indices[1]] == 0] = 0\n",
    "    torch.save(torch.sparse_coo_tensor(indices, data, [len(chid2idx), len(pred_label)]), out_path+'top3_{:02d}.pt'.format(dt))\n",
    "\n",
    "    values = df[(df.dt == dt)&(df.shop_tag.isin(other_label))].sort_values(by=['chid', 'shop_tag'])[edge_cols+['txn_amt']].values\n",
    "    indices = values[:, :2].T\n",
    "    indices[1] = list(map(lambda x:other_label.index(x), indices[1].tolist()))\n",
    "\n",
    "    data = values[:, -1] # txn_amt\n",
    "    torch.save(torch.sparse_coo_tensor(indices, data, [len(chid2idx), len(other_label)]), out_path+'other_{:02d}.pt'.format(dt))    "
   ]
  },
  {
   "cell_type": "code",
   "execution_count": 9,
   "metadata": {},
   "outputs": [],
   "source": [
    "df_user_feat = df[['chid']+chid_feat_cols+['slam']].drop_duplicates(ignore_index=True).copy()\n",
    "df_user_feat = df_user_feat.iloc[df_user_feat[['chid']].drop_duplicates(keep='last').index].sort_values(by='chid', ignore_index=True)\n",
    "df_user_feat.slam.fillna(df_user_feat.slam.median(), inplace=True)\n",
    "df_user_feat.slam = np.log10(df_user_feat.slam)"
   ]
  },
  {
   "cell_type": "code",
   "execution_count": 10,
   "metadata": {},
   "outputs": [],
   "source": [
    "x = torch.LongTensor(df_user_feat.values[:, 1:-1])\n",
    "torch.save(x,  out_path+'user_sparse.pt')\n",
    "\n",
    "x = torch.FloatTensor(df_user_feat.values[:, [-1]])\n",
    "torch.save(x,  out_path+'user_dense.pt')"
   ]
  }
 ],
 "metadata": {
  "interpreter": {
   "hash": "ff29aa73288b1b71e08948e558fe0023a8cfdbdd281877029fc706c85b3ab910"
  },
  "kernelspec": {
   "display_name": "Python 3.8.12 64-bit ('py3.8': conda)",
   "language": "python",
   "name": "python3"
  },
  "language_info": {
   "codemirror_mode": {
    "name": "ipython",
    "version": 3
   },
   "file_extension": ".py",
   "mimetype": "text/x-python",
   "name": "python",
   "nbconvert_exporter": "python",
   "pygments_lexer": "ipython3",
   "version": "3.8.12"
  },
  "orig_nbformat": 4
 },
 "nbformat": 4,
 "nbformat_minor": 2
}
